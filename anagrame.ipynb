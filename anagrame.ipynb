{
  "nbformat": 4,
  "nbformat_minor": 0,
  "metadata": {
    "colab": {
      "name": "anagrame.ipynb",
      "provenance": [],
      "authorship_tag": "ABX9TyNTRTJLDIPCYZt49PxaBVAK",
      "include_colab_link": true
    },
    "kernelspec": {
      "name": "python3",
      "display_name": "Python 3"
    }
  },
  "cells": [
    {
      "cell_type": "markdown",
      "metadata": {
        "id": "view-in-github",
        "colab_type": "text"
      },
      "source": [
        "<a href=\"https://colab.research.google.com/github/GK-SVG/PYDS-Training/blob/master/anagrame.ipynb\" target=\"_parent\"><img src=\"https://colab.research.google.com/assets/colab-badge.svg\" alt=\"Open In Colab\"/></a>"
      ]
    },
    {
      "cell_type": "code",
      "metadata": {
        "id": "SV_N6CQ-CqiH",
        "colab_type": "code",
        "colab": {
          "base_uri": "https://localhost:8080/",
          "height": 68
        },
        "outputId": "d4dee2a0-dba8-429c-ffe7-bc10fd15ee3c"
      },
      "source": [
        "def anagram(str1, str2):\n",
        "    temp_str1 = sorted(str1)\n",
        "    temp_str2 = sorted(str2)\n",
        "    count = 0\n",
        "    for i in range(len(temp_str1)):\n",
        "        if temp_str1[i] == temp_str2[i]:\n",
        "            continue\n",
        "        else:\n",
        "            count += 1\n",
        "            break\n",
        "    if count == 0:\n",
        "        print('Anagram')\n",
        "    else:\n",
        "        print('Not Anagram')\n",
        "\n",
        "\n",
        "str1 = input(\"enter string 1st: \")\n",
        "str2 = input(\"enter string 2nd: \")\n",
        "anagram(str1, str2)"
      ],
      "execution_count": 1,
      "outputs": [
        {
          "output_type": "stream",
          "text": [
            "enter string 1stgautam\n",
            "enter string 2nduagtam\n",
            "Anagram\n"
          ],
          "name": "stdout"
        }
      ]
    }
  ]
}