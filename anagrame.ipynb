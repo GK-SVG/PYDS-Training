{
  "nbformat": 4,
  "nbformat_minor": 0,
  "metadata": {
    "colab": {
      "name": "anagrame.ipynb",
      "provenance": [],
      "authorship_tag": "ABX9TyOxWfBYL1rUKHKjx3G1d2+P",
      "include_colab_link": true
    },
    "kernelspec": {
      "name": "python3",
      "display_name": "Python 3"
    }
  },
  "cells": [
    {
      "cell_type": "markdown",
      "metadata": {
        "id": "view-in-github",
        "colab_type": "text"
      },
      "source": [
        "<a href=\"https://colab.research.google.com/github/GK-SVG/PYDS-Training/blob/master/anagrame.ipynb\" target=\"_parent\"><img src=\"https://colab.research.google.com/assets/colab-badge.svg\" alt=\"Open In Colab\"/></a>"
      ]
    },
    {
      "cell_type": "code",
      "metadata": {
        "id": "SV_N6CQ-CqiH",
        "colab_type": "code",
        "colab": {
          "base_uri": "https://localhost:8080/",
          "height": 68
        },
        "outputId": "b02b744a-01f0-448c-e523-a328add426c0"
      },
      "source": [
        "def anagram(str1, str2):\n",
        "    if sorted(str1) == sorted(str2) :\n",
        "      print(\"Anagram\")\n",
        "    else :\n",
        "      print(\"not Anagram\")\n",
        "\n",
        "\n",
        "str1 = input(\"enter string 1st: \")\n",
        "str2 = input(\"enter string 2nd: \")\n",
        "anagram(str1, str2)"
      ],
      "execution_count": 5,
      "outputs": [
        {
          "output_type": "stream",
          "text": [
            "enter string 1st: ghf\n",
            "enter string 2nd: hgf\n",
            "Anagram\n"
          ],
          "name": "stdout"
        }
      ]
    }
  ]
}