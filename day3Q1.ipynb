{
  "nbformat": 4,
  "nbformat_minor": 0,
  "metadata": {
    "colab": {
      "name": "day3Q1.ipynb",
      "provenance": [],
      "collapsed_sections": [],
      "authorship_tag": "ABX9TyP0Il4ZlmcOPvwukfc8uQGf",
      "include_colab_link": true
    },
    "kernelspec": {
      "name": "python3",
      "display_name": "Python 3"
    }
  },
  "cells": [
    {
      "cell_type": "markdown",
      "metadata": {
        "id": "view-in-github",
        "colab_type": "text"
      },
      "source": [
        "<a href=\"https://colab.research.google.com/github/GK-SVG/PYDS-Training/blob/master/day3Q1.ipynb\" target=\"_parent\"><img src=\"https://colab.research.google.com/assets/colab-badge.svg\" alt=\"Open In Colab\"/></a>"
      ]
    },
    {
      "cell_type": "markdown",
      "metadata": {
        "id": "tcK3GUvqmFV8",
        "colab_type": "text"
      },
      "source": [
        ""
      ]
    },
    {
      "cell_type": "code",
      "metadata": {
        "id": "d4rOgVtKlcco",
        "colab_type": "code",
        "colab": {}
      },
      "source": [
        ""
      ],
      "execution_count": 0,
      "outputs": []
    },
    {
      "cell_type": "markdown",
      "metadata": {
        "id": "cEv7MaeJmA7B",
        "colab_type": "text"
      },
      "source": [
        ""
      ]
    },
    {
      "cell_type": "markdown",
      "metadata": {
        "id": "H2aCf9zWmI9f",
        "colab_type": "text"
      },
      "source": [
        "A scope defines the hierarchical order in which the namespaces have to be searched in order to obtain the mappings of name-to-object(variables). It is a context in which variables exist and from which they are referenced. It defines the accessibility and the lifetime of a variable.\n",
        "\n",
        "Scope resolution via LEGB rule :\n",
        "In Python, the LEGB rule is used to decide the order in which the namespaces are to be searched for scope resolution.\n",
        "The scopes are listed below in terms of hierarchy(highest to lowest/narrowest to broadest):\n",
        "\n",
        "Local(L): Defined inside function/class\n",
        "\n",
        "Enclosed(E): Defined inside enclosing functions(Nested function concept)\n",
        "\n",
        "Global(G): Defined at the uppermost level\n",
        "\n",
        "Built-in(B): Reserved names in Python builtin modules"
      ]
    }
  ]
}