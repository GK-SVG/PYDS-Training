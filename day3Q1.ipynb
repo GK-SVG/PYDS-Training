{
  "nbformat": 4,
  "nbformat_minor": 0,
  "metadata": {
    "colab": {
      "name": "day3Q1.ipynb",
      "provenance": [],
      "collapsed_sections": [],
      "authorship_tag": "ABX9TyNEqop0ATwJ1avSboGsWG4/",
      "include_colab_link": true
    },
    "kernelspec": {
      "name": "python3",
      "display_name": "Python 3"
    }
  },
  "cells": [
    {
      "cell_type": "markdown",
      "metadata": {
        "id": "view-in-github",
        "colab_type": "text"
      },
      "source": [
        "<a href=\"https://colab.research.google.com/github/GK-SVG/PYDS-Training/blob/master/day3Q1.ipynb\" target=\"_parent\"><img src=\"https://colab.research.google.com/assets/colab-badge.svg\" alt=\"Open In Colab\"/></a>"
      ]
    },
    {
      "cell_type": "markdown",
      "metadata": {
        "id": "tcK3GUvqmFV8",
        "colab_type": "text"
      },
      "source": [
        ""
      ]
    },
    {
      "cell_type": "code",
      "metadata": {
        "id": "d4rOgVtKlcco",
        "colab_type": "code",
        "colab": {}
      },
      "source": [
        ""
      ],
      "execution_count": 0,
      "outputs": []
    },
    {
      "cell_type": "markdown",
      "metadata": {
        "id": "cEv7MaeJmA7B",
        "colab_type": "text"
      },
      "source": [
        ""
      ]
    },
    {
      "cell_type": "markdown",
      "metadata": {
        "id": "H2aCf9zWmI9f",
        "colab_type": "text"
      },
      "source": [
        "A scope defines the hierarchical order in which the namespaces have to be searched in order to obtain the mappings of name-to-object(variables). It is a context in which variables exist and from which they are referenced. It defines the accessibility and the lifetime of a variable.\n",
        "\n",
        "Scope resolution via LEGB rule :\n",
        "In Python, the LEGB rule is used to decide the order in which the namespaces are to be searched for scope resolution.\n",
        "The scopes are listed below in terms of hierarchy(highest to lowest/narrowest to broadest):\n",
        "\n",
        "Local(L): Defined inside function/class\n",
        "\n",
        "Enclosed(E): Defined inside enclosing functions(Nested function concept)\n",
        "\n",
        "Global(G): Defined at the uppermost level\n",
        "\n",
        "Built-in(B): Reserved names in Python builtin modules"
      ]
    },
    {
      "cell_type": "code",
      "metadata": {
        "id": "XjJbGxxrnR_W",
        "colab_type": "code",
        "colab": {
          "base_uri": "https://localhost:8080/",
          "height": 34
        },
        "outputId": "67deb78e-5d16-4896-d434-bdd74fe46c03"
      },
      "source": [
        "# Local Scope \n",
        "\n",
        "pi = 'global pi variable'\n",
        "def inner(): \n",
        "\tpi = 'inner pi variable'\n",
        "\tprint(pi) \n",
        "\n",
        "inner()"
      ],
      "execution_count": 2,
      "outputs": [
        {
          "output_type": "stream",
          "text": [
            "inner pi variable\n"
          ],
          "name": "stdout"
        }
      ]
    },
    {
      "cell_type": "code",
      "metadata": {
        "id": "_Q_rJJY_nhBp",
        "colab_type": "code",
        "colab": {
          "base_uri": "https://localhost:8080/",
          "height": 51
        },
        "outputId": "ce790fea-f7d2-4895-d7e3-a0701a3bbea2"
      },
      "source": [
        "# Global Scope \n",
        "\n",
        "pi = 'global pi variable'\n",
        "def inner(): \n",
        "\tpi = 'inner pi variable'\n",
        "\tprint(pi) \n",
        "\n",
        "inner() \n",
        "print(pi)"
      ],
      "execution_count": 3,
      "outputs": [
        {
          "output_type": "stream",
          "text": [
            "inner pi variable\n",
            "global pi variable\n"
          ],
          "name": "stdout"
        }
      ]
    },
    {
      "cell_type": "code",
      "metadata": {
        "id": "QSo7Abp7niDg",
        "colab_type": "code",
        "colab": {
          "base_uri": "https://localhost:8080/",
          "height": 51
        },
        "outputId": "d630ebef-6d29-41d8-e70b-eff9a7ba6652"
      },
      "source": [
        "pi = 'global pi variable'\n",
        "\n",
        "def outer(): \n",
        "\tpi = 'outer pi variable'\n",
        "\tdef inner(): \n",
        "\t\t# pi = 'inner pi variable' \n",
        "\t\tnonlocal pi \n",
        "\t\tprint(pi) \n",
        "\tinner() \n",
        "\n",
        "outer() \n",
        "print(pi)"
      ],
      "execution_count": 1,
      "outputs": [
        {
          "output_type": "stream",
          "text": [
            "outer pi variable\n",
            "global pi variable\n"
          ],
          "name": "stdout"
        }
      ]
    },
    {
      "cell_type": "code",
      "metadata": {
        "id": "2XUPB4t_nmmQ",
        "colab_type": "code",
        "colab": {
          "base_uri": "https://localhost:8080/",
          "height": 34
        },
        "outputId": "93bf4a5c-7be7-4a80-f068-914b12322de7"
      },
      "source": [
        " #Built-in Scope \n",
        "from math import pi \n",
        "\n",
        "# pi = 'global pi variable' \n",
        "\n",
        "def outer(): \n",
        "\t# pi = 'outer pi variable' \n",
        "\tdef inner(): \n",
        "\t\t# pi = 'inner pi variable' \n",
        "\t\tprint(pi) \n",
        "\tinner() \n",
        "\n",
        "outer()"
      ],
      "execution_count": 5,
      "outputs": [
        {
          "output_type": "stream",
          "text": [
            "3.141592653589793\n"
          ],
          "name": "stdout"
        }
      ]
    }
  ]
}